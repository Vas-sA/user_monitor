{
 "cells": [
  {
   "cell_type": "code",
   "execution_count": 1,
   "metadata": {},
   "outputs": [],
   "source": [
    "import cv2\n",
    "import numpy as np"
   ]
  },
  {
   "cell_type": "code",
   "execution_count": 20,
   "metadata": {},
   "outputs": [],
   "source": [
    "def check_image_for_logo(img, *logos):\n",
    "    img_rgb = cv2.imread(img)\n",
    "    img_gray = cv2.cvtColor(img_rgb, cv2.COLOR_BGR2GRAY)\n",
    "    for logo in logos:\n",
    "        template = cv2.imread(logo, 0)\n",
    "        loc = np.where(cv2.matchTemplate(img_gray, template, cv2.TM_CCOEFF_NORMED) > 0.9)\n",
    "        \n",
    "        amount = set()\n",
    "        for pt in zip(*loc[::-1]):\n",
    "            sensitivity = 100\n",
    "            amount.add((round(pt[0]/sensitivity), round(pt[1]/sensitivity)))\n",
    "        if len(amount)>0:\n",
    "            print(img, ' has ', logo, len(amount))\n"
   ]
  },
  {
   "cell_type": "code",
   "execution_count": 21,
   "metadata": {},
   "outputs": [
    {
     "name": "stdout",
     "output_type": "stream",
     "text": [
      "files/18 Jan2019 16-34.png  has  files/youtube.png 1\n"
     ]
    }
   ],
   "source": [
    "check_image_for_logo('files/18 Jan2019 16-34.png', 'files/fb.png', 'files/youtube.png')"
   ]
  },
  {
   "cell_type": "code",
   "execution_count": 30,
   "metadata": {},
   "outputs": [],
   "source": [
    "import os\n",
    "tmp = os.listdir('files/')"
   ]
  },
  {
   "cell_type": "code",
   "execution_count": 34,
   "metadata": {},
   "outputs": [
    {
     "name": "stdout",
     "output_type": "stream",
     "text": [
      "files/Screenshot from 2019-02-03 16-25-40.png  has  logo-fb.png 1\n",
      "files/Screenshot from 2019-02-03 13-05-18.png  has  logo-fb.png 1\n",
      "files/Screenshot from 2019-02-03 13-05-18.png  has  logo-youtube.png 1\n",
      "files/Screenshot from 2019-02-03 16-25-25.png  has  logo-fb.png 1\n",
      "files/18 Jan2019 16-34.png  has  logo-youtube.png 1\n",
      "files/18 Jan2019 22-31.png  has  logo-youtube.png 1\n",
      "files/18 Jan2019 21-01.png  has  logo-fb.png 1\n",
      "files/18 Jan2019 16-32.png  has  logo-youtube.png 1\n",
      "files/18 Jan2019 22-05.png  has  logo-youtube.png 1\n",
      "files/18 Jan2019 21-55.png  has  logo-youtube.png 1\n",
      "files/18 Jan2019 21-02.png  has  logo-fb.png 1\n",
      "files/18 Jan2019 21-53.png  has  logo-youtube.png 1\n",
      "files/18 Jan2019 19-52.png  has  logo-youtube.png 1\n",
      "files/18 Jan2019 21-54.png  has  logo-youtube.png 1\n",
      "files/18 Jan2019 22-17.png  has  logo-fb.png 1\n",
      "files/18 Jan2019 20-27.png  has  logo-youtube.png 1\n",
      "files/18 Jan2019 17-16.png  has  logo-youtube.png 1\n",
      "files/18 Jan2019 17-15.png  has  logo-youtube.png 1\n",
      "files/18 Jan2019 20-30.png  has  logo-youtube.png 1\n",
      "files/18 Jan2019 22-30.png  has  logo-youtube.png 1\n",
      "files/18 Jan2019 21-51.png  has  logo-youtube.png 1\n"
     ]
    }
   ],
   "source": [
    "for i in test:\n",
    "    check_image_for_logo('files/'+i, 'logo-fb.png', 'logo-youtube.png')"
   ]
  },
  {
   "cell_type": "code",
   "execution_count": 33,
   "metadata": {},
   "outputs": [],
   "source": [
    "test = [x for x in tmp if '.png' in x]"
   ]
  },
  {
   "cell_type": "code",
   "execution_count": null,
   "metadata": {},
   "outputs": [],
   "source": []
  }
 ],
 "metadata": {
  "kernelspec": {
   "display_name": "Python 3",
   "language": "python",
   "name": "python3"
  },
  "language_info": {
   "codemirror_mode": {
    "name": "ipython",
    "version": 3
   },
   "file_extension": ".py",
   "mimetype": "text/x-python",
   "name": "python",
   "nbconvert_exporter": "python",
   "pygments_lexer": "ipython3",
   "version": "3.6.5"
  }
 },
 "nbformat": 4,
 "nbformat_minor": 2
}
